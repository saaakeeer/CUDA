{
  "nbformat": 4,
  "nbformat_minor": 0,
  "metadata": {
    "colab": {
      "provenance": []
    },
    "kernelspec": {
      "name": "python3",
      "display_name": "Python 3"
    },
    "language_info": {
      "name": "python"
    },
    "accelerator": "GPU",
    "gpuClass": "standard"
  },
  "cells": [
    {
      "cell_type": "code",
      "metadata": {
        "id": "yZU3XYbM4s41"
      },
      "source": [
        "import numpy as np\n",
        "import cupy as cp"
      ],
      "execution_count": 1,
      "outputs": []
    },
    {
      "cell_type": "code",
      "metadata": {
        "id": "vKtSX7K16op9"
      },
      "source": [
        "from numba import cuda"
      ],
      "execution_count": 2,
      "outputs": []
    },
    {
      "cell_type": "code",
      "metadata": {
        "colab": {
          "base_uri": "https://localhost:8080/"
        },
        "id": "mhnDb4qS65Um",
        "outputId": "8b226244-0277-469f-f853-f5a042481561"
      },
      "source": [
        "cuda.detect()"
      ],
      "execution_count": 3,
      "outputs": [
        {
          "output_type": "stream",
          "name": "stdout",
          "text": [
            "Found 1 CUDA devices\n",
            "id 0             b'Tesla T4'                              [SUPPORTED]\n",
            "                      Compute Capability: 7.5\n",
            "                           PCI Device ID: 4\n",
            "                              PCI Bus ID: 0\n",
            "                                    UUID: GPU-f17c582b-653b-1042-8b7f-e1b192c8f779\n",
            "                                Watchdog: Disabled\n",
            "             FP32/FP64 Performance Ratio: 32\n",
            "Summary:\n",
            "\t1/1 devices are supported\n"
          ]
        },
        {
          "output_type": "execute_result",
          "data": {
            "text/plain": [
              "True"
            ]
          },
          "metadata": {},
          "execution_count": 3
        }
      ]
    },
    {
      "cell_type": "markdown",
      "metadata": {
        "id": "tz0s1Jol8J6W"
      },
      "source": [
        "## Sending data to the GPU"
      ]
    },
    {
      "cell_type": "code",
      "metadata": {
        "id": "hHcK73fL6yuC"
      },
      "source": [
        "array_cpu = np.random.randint(0, 255, size=(4000, 4000))"
      ],
      "execution_count": 4,
      "outputs": []
    },
    {
      "cell_type": "code",
      "metadata": {
        "colab": {
          "base_uri": "https://localhost:8080/"
        },
        "id": "cavkv4lXCSMi",
        "outputId": "9c11976d-c953-4f65-abb5-c151c57e60c7"
      },
      "source": [
        "array_cpu.nbytes / 1e6"
      ],
      "execution_count": 5,
      "outputs": [
        {
          "output_type": "execute_result",
          "data": {
            "text/plain": [
              "128.0"
            ]
          },
          "metadata": {},
          "execution_count": 5
        }
      ]
    },
    {
      "cell_type": "code",
      "metadata": {
        "id": "4PMqrN5ZB-8p"
      },
      "source": [
        "array_gpu = cp.asarray(array_cpu)\n"
      ],
      "execution_count": 6,
      "outputs": []
    },
    {
      "cell_type": "code",
      "metadata": {
        "colab": {
          "base_uri": "https://localhost:8080/"
        },
        "id": "McbJmJAiB1q-",
        "outputId": "c6f2ab1b-7b79-4953-a9f5-1854ce95e233"
      },
      "source": [
        "%%timeit\n",
        "\n",
        "cp.asarray(array_cpu)"
      ],
      "execution_count": 7,
      "outputs": [
        {
          "output_type": "stream",
          "name": "stdout",
          "text": [
            "31.5 ms ± 3.83 ms per loop (mean ± std. dev. of 7 runs, 10 loops each)\n"
          ]
        }
      ]
    },
    {
      "cell_type": "code",
      "metadata": {
        "colab": {
          "base_uri": "https://localhost:8080/"
        },
        "id": "lLv71Q-VB1cQ",
        "outputId": "7da0f802-cfe1-4ec5-c3fd-27bbdd716a19"
      },
      "source": [
        "type(array_gpu)"
      ],
      "execution_count": 8,
      "outputs": [
        {
          "output_type": "execute_result",
          "data": {
            "text/plain": [
              "cupy.ndarray"
            ]
          },
          "metadata": {},
          "execution_count": 8
        }
      ]
    },
    {
      "cell_type": "code",
      "metadata": {
        "id": "4lmzjJqPDtzr"
      },
      "source": [
        "from scipy import fft"
      ],
      "execution_count": 9,
      "outputs": []
    },
    {
      "cell_type": "code",
      "metadata": {
        "colab": {
          "base_uri": "https://localhost:8080/"
        },
        "id": "YQeSM94lB1Lu",
        "outputId": "06f69ea3-a121-477c-c3c8-926a519cbf60"
      },
      "source": [
        "%%timeit\n",
        "\n",
        "fft.fftn(array_cpu)"
      ],
      "execution_count": 10,
      "outputs": [
        {
          "output_type": "stream",
          "name": "stdout",
          "text": [
            "536 ms ± 78.8 ms per loop (mean ± std. dev. of 7 runs, 1 loop each)\n"
          ]
        }
      ]
    },
    {
      "cell_type": "code",
      "metadata": {
        "id": "e6aDtc0UDsEF"
      },
      "source": [
        "from cupyx.scipy import fft as fft_gpu"
      ],
      "execution_count": 11,
      "outputs": []
    },
    {
      "cell_type": "code",
      "metadata": {
        "colab": {
          "base_uri": "https://localhost:8080/"
        },
        "id": "6uDN3wqqC2CO",
        "outputId": "49704e5b-94db-41bd-e7c3-d9d3e876de96"
      },
      "source": [
        "%%timeit\n",
        "\n",
        "fft_gpu.fftn(array_gpu)"
      ],
      "execution_count": 12,
      "outputs": [
        {
          "output_type": "stream",
          "name": "stdout",
          "text": [
            "107 µs ± 46.6 µs per loop (mean ± std. dev. of 7 runs, 1 loop each)\n"
          ]
        }
      ]
    },
    {
      "cell_type": "code",
      "metadata": {
        "colab": {
          "base_uri": "https://localhost:8080/"
        },
        "id": "6JAcgHhDC1z9",
        "outputId": "2c9e83c2-8254-4877-f59a-dbba7b6ecd9d"
      },
      "source": [
        "fft_cpu = fft.fftn(array_cpu)\n",
        "fft_sent_back = cp.asnumpy(fft_gpu.fftn(array_gpu))\n",
        "np.allclose(fft_sent_back, fft_cpu)"
      ],
      "execution_count": 13,
      "outputs": [
        {
          "output_type": "execute_result",
          "data": {
            "text/plain": [
              "True"
            ]
          },
          "metadata": {},
          "execution_count": 13
        }
      ]
    },
    {
      "cell_type": "code",
      "metadata": {
        "colab": {
          "base_uri": "https://localhost:8080/"
        },
        "id": "VXhSyxOEE2x8",
        "outputId": "b495bb88-b2de-43be-8644-5a419112f0e2"
      },
      "source": [
        "# some numpy functions may work\n",
        "np.max(array_gpu)"
      ],
      "execution_count": 14,
      "outputs": [
        {
          "output_type": "execute_result",
          "data": {
            "text/plain": [
              "array(254)"
            ]
          },
          "metadata": {},
          "execution_count": 14
        }
      ]
    },
    {
      "cell_type": "code",
      "metadata": {
        "colab": {
          "base_uri": "https://localhost:8080/"
        },
        "id": "1RmDYlR2EXEp",
        "outputId": "6fb0a1b6-7f25-446a-b3d3-bb4d814b40e6"
      },
      "source": [
        "%%time\n",
        "\n",
        "# if at all possible, create arrays directly on the GPU\n",
        "random_gpu_array = cp.random.randint(0, 255, size=(100, 100))"
      ],
      "execution_count": 15,
      "outputs": [
        {
          "output_type": "stream",
          "name": "stdout",
          "text": [
            "CPU times: user 1.37 s, sys: 27.8 ms, total: 1.4 s\n",
            "Wall time: 1.61 s\n"
          ]
        }
      ]
    },
    {
      "cell_type": "markdown",
      "metadata": {
        "id": "VffahcQc8Csn"
      },
      "source": [
        "## Custom kernels with numba"
      ]
    },
    {
      "cell_type": "markdown",
      "metadata": {
        "id": "gCIh0QTSGDJ2"
      },
      "source": [
        "### Numba device arrays"
      ]
    },
    {
      "cell_type": "code",
      "metadata": {
        "colab": {
          "base_uri": "https://localhost:8080/"
        },
        "id": "uxfakD_p60G0",
        "outputId": "fc0cf653-fafa-4638-8b7c-510e8addda89"
      },
      "source": [
        "# numba has its own API for transfering data\n",
        "d_ary = cuda.to_device(array_cpu)\n",
        "d_ary"
      ],
      "execution_count": 16,
      "outputs": [
        {
          "output_type": "execute_result",
          "data": {
            "text/plain": [
              "<numba.cuda.cudadrv.devicearray.DeviceNDArray at 0x7faec3e91520>"
            ]
          },
          "metadata": {},
          "execution_count": 16
        }
      ]
    },
    {
      "cell_type": "code",
      "metadata": {
        "colab": {
          "base_uri": "https://localhost:8080/"
        },
        "id": "t3JPJxX360bD",
        "outputId": "a1de6382-bab2-46e2-f653-ba99f46abf0c"
      },
      "source": [
        "cp.asarray(d_ary)"
      ],
      "execution_count": 17,
      "outputs": [
        {
          "output_type": "execute_result",
          "data": {
            "text/plain": [
              "array([[175,  20, 105, ..., 142,  45,  89],\n",
              "       [177, 144, 210, ..., 177, 214,  26],\n",
              "       [108, 155,  22, ..., 125, 248,  24],\n",
              "       ...,\n",
              "       [ 81,  78, 149, ..., 136, 226, 136],\n",
              "       [ 41,  83, 168, ..., 188, 221, 211],\n",
              "       [134, 193, 149, ...,  43,  39, 156]])"
            ]
          },
          "metadata": {},
          "execution_count": 17
        }
      ]
    },
    {
      "cell_type": "code",
      "metadata": {
        "colab": {
          "base_uri": "https://localhost:8080/"
        },
        "id": "dJ0sdWXs60s3",
        "outputId": "62880548-ac16-46cb-9c69-b4d4bfaedac3"
      },
      "source": [
        "d_ary.copy_to_host()"
      ],
      "execution_count": 18,
      "outputs": [
        {
          "output_type": "execute_result",
          "data": {
            "text/plain": [
              "array([[175,  20, 105, ..., 142,  45,  89],\n",
              "       [177, 144, 210, ..., 177, 214,  26],\n",
              "       [108, 155,  22, ..., 125, 248,  24],\n",
              "       ...,\n",
              "       [ 81,  78, 149, ..., 136, 226, 136],\n",
              "       [ 41,  83, 168, ..., 188, 221, 211],\n",
              "       [134, 193, 149, ...,  43,  39, 156]])"
            ]
          },
          "metadata": {},
          "execution_count": 18
        }
      ]
    },
    {
      "cell_type": "markdown",
      "metadata": {
        "id": "D-xki0BeGIOY"
      },
      "source": [
        "### Numba kernels"
      ]
    },
    {
      "cell_type": "code",
      "metadata": {
        "id": "FBRTfOF5BIAK"
      },
      "source": [
        "from numba import cuda\n",
        "import cupy as cp\n",
        "import numpy as np"
      ],
      "execution_count": 19,
      "outputs": []
    },
    {
      "cell_type": "code",
      "metadata": {
        "id": "vzoVtm6O61DL"
      },
      "source": [
        "@cuda.jit\n",
        "def matmul(A, B, C):\n",
        "    \"\"\"Perform square matrix multiplication of C = A * B\n",
        "    \"\"\"\n",
        "    i, j = cuda.grid(2)  \n",
        "    if i < C.shape[0] and j < C.shape[1]:   # grid can extend beyond C\n",
        "        tmp = 0.                            \n",
        "        for k in range(A.shape[1]):\n",
        "            tmp += A[i, k] * B[k, j]        # multiply elements in row i of A and column j of B and add to temp\n",
        "        C[i, j] = tmp"
      ],
      "execution_count": 20,
      "outputs": []
    },
    {
      "cell_type": "code",
      "metadata": {
        "id": "IGEoEUjo683n"
      },
      "source": [
        "cp.random.seed(42)\n",
        "A = cp.random.uniform(1, 10, size=(2000, 2000), dtype=np.float64)  # array 1\n",
        "B = cp.random.uniform(1, 10, size=(2000, 2000), dtype=np.float64)  # array 2\n",
        "C = cp.zeros((2000, 2000), dtype=np.float64)       # array where we store answer "
      ],
      "execution_count": 21,
      "outputs": []
    },
    {
      "cell_type": "code",
      "metadata": {
        "colab": {
          "base_uri": "https://localhost:8080/"
        },
        "id": "5bpfjqOWGrA5",
        "outputId": "b346f76e-573f-4dde-c23e-bbf5dd3048c1"
      },
      "source": [
        "C"
      ],
      "execution_count": 22,
      "outputs": [
        {
          "output_type": "execute_result",
          "data": {
            "text/plain": [
              "array([[0., 0., 0., ..., 0., 0., 0.],\n",
              "       [0., 0., 0., ..., 0., 0., 0.],\n",
              "       [0., 0., 0., ..., 0., 0., 0.],\n",
              "       ...,\n",
              "       [0., 0., 0., ..., 0., 0., 0.],\n",
              "       [0., 0., 0., ..., 0., 0., 0.],\n",
              "       [0., 0., 0., ..., 0., 0., 0.]])"
            ]
          },
          "metadata": {},
          "execution_count": 22
        }
      ]
    },
    {
      "cell_type": "code",
      "metadata": {
        "colab": {
          "base_uri": "https://localhost:8080/"
        },
        "id": "tlBglj4fGVCT",
        "outputId": "5be305f5-f89c-4c1c-a08c-2e57d57937db"
      },
      "source": [
        "threadsperblock = (16, 16)  # each block will contain 16x16 threads, typically 128 - 512 threads/block\n",
        "blockspergrid_x = int(np.ceil(C.shape[0] / threadsperblock[0]))\n",
        "blockspergrid_y = int(np.ceil(C.shape[1] / threadsperblock[1]))\n",
        "blockspergrid = (blockspergrid_x, blockspergrid_y)  # we calculate the gridsize (number of blocks) from array\n",
        "print(blockspergrid)\n",
        "print(f\"The kernel will be executed up to element {threadsperblock[0]*blockspergrid_x}\")"
      ],
      "execution_count": 23,
      "outputs": [
        {
          "output_type": "stream",
          "name": "stdout",
          "text": [
            "(125, 125)\n",
            "The kernel will be executed up to element 2000\n"
          ]
        }
      ]
    },
    {
      "cell_type": "code",
      "metadata": {
        "id": "ec9uXEHSGiex"
      },
      "source": [
        "# execution of the kernel\n",
        "matmul[blockspergrid, threadsperblock](A, B, C)"
      ],
      "execution_count": 24,
      "outputs": []
    },
    {
      "cell_type": "code",
      "metadata": {
        "colab": {
          "base_uri": "https://localhost:8080/"
        },
        "id": "lLcKpVgbGuer",
        "outputId": "889d643c-600b-4d03-edd8-9068cc2cfcbf"
      },
      "source": [
        "C"
      ],
      "execution_count": 25,
      "outputs": [
        {
          "output_type": "execute_result",
          "data": {
            "text/plain": [
              "array([[59394.46607842, 58001.66377549, 58910.89964126, ...,\n",
              "        58755.23643036, 59265.65525416, 58447.86197932],\n",
              "       [59656.82462269, 58635.04995946, 59080.54393462, ...,\n",
              "        59327.90030958, 60391.24930458, 59425.35827899],\n",
              "       [62192.77335924, 60700.17680915, 60538.34933653, ...,\n",
              "        61027.03460329, 61711.10155029, 60544.69882075],\n",
              "       ...,\n",
              "       [60649.27416407, 59951.20972379, 60170.2004206 , ...,\n",
              "        60203.88074659, 60934.19598791, 59613.28418599],\n",
              "       [61620.11922557, 61264.33868343, 62076.33462258, ...,\n",
              "        61227.57661876, 62642.97523374, 61841.46799761],\n",
              "       [61535.95697543, 59600.43760873, 59927.620961  , ...,\n",
              "        60738.55627077, 61429.70009593, 59662.34901713]])"
            ]
          },
          "metadata": {},
          "execution_count": 25
        }
      ]
    },
    {
      "cell_type": "code",
      "metadata": {
        "id": "4UikbP70GwLF"
      },
      "source": [
        "# faster multiplication can be obtained by making use of shared memory between threads in the same block\n",
        "# this requires more thinking about non-obvious implementation!\n",
        "\n",
        "from numba import float32, int32, float64\n",
        "\n",
        "# Controls threads per block and shared memory usage.\n",
        "# The computation will be done on blocks of TPBxTPB elements.\n",
        "TPB = 16\n",
        "\n",
        "@cuda.jit\n",
        "def fast_matmul(A, B, C):\n",
        "    # Define an array in the shared memory\n",
        "    # The size and type of the arrays must be known at compile time\n",
        "    sA = cuda.shared.array(shape=(TPB, TPB), dtype=float32)\n",
        "    sB = cuda.shared.array(shape=(TPB, TPB), dtype=float32)\n",
        "\n",
        "    x, y = cuda.grid(2)\n",
        "\n",
        "    tx = cuda.threadIdx.x\n",
        "    ty = cuda.threadIdx.y\n",
        "    bpg = cuda.gridDim.x    # blocks per grid\n",
        "\n",
        "    if x >= C.shape[0] and y >= C.shape[1]:\n",
        "        # Quit if (x, y) is outside of valid C boundary\n",
        "        return\n",
        "\n",
        "    # Each thread computes one element in the result matrix.\n",
        "    # The dot product is chunked into dot products of TPB-long vectors.\n",
        "    tmp = 0.\n",
        "    for i in range(bpg):\n",
        "        # Preload data into shared memory\n",
        "        sA[tx, ty] = A[x, ty + i * TPB]\n",
        "        sB[tx, ty] = B[tx + i * TPB, y]\n",
        "\n",
        "        # Wait until all threads finish preloading\n",
        "        cuda.syncthreads()\n",
        "\n",
        "        # Computes partial product on the shared memory\n",
        "        for j in range(TPB):\n",
        "            tmp += sA[tx, j] * sB[j, ty]\n",
        "\n",
        "        # Wait until all threads finish computing\n",
        "        cuda.syncthreads()\n",
        "\n",
        "    C[x, y] = tmp"
      ],
      "execution_count": 26,
      "outputs": []
    },
    {
      "cell_type": "code",
      "metadata": {
        "id": "s7P5ZyObG6_e"
      },
      "source": [
        "# execution of the kernel\n",
        "SIZE = 2000\n",
        "A = cp.random.uniform(1, 10, size=(SIZE, SIZE), dtype=np.float32)\n",
        "B = cp.random.uniform(1, 10, size=(SIZE, SIZE), dtype=np.float32)\n",
        "C_slow = cp.zeros((SIZE, SIZE), dtype=np.float32)      \n",
        "C_fast = cp.zeros((SIZE, SIZE), dtype=np.float32)"
      ],
      "execution_count": 27,
      "outputs": []
    },
    {
      "cell_type": "code",
      "metadata": {
        "id": "37Kx6dg-sfGZ"
      },
      "source": [
        "threadsperblock = (TPB, TPB)\n",
        "blockspergrid = int(np.ceil(SIZE / threadsperblock[0]))\n",
        "blockspergrid = (blockspergrid, blockspergrid)"
      ],
      "execution_count": 28,
      "outputs": []
    },
    {
      "cell_type": "code",
      "metadata": {
        "id": "FZhhRiu3uKmV"
      },
      "source": [
        "matmul[blockspergrid, threadsperblock](A, B, C_slow)"
      ],
      "execution_count": 29,
      "outputs": []
    },
    {
      "cell_type": "code",
      "metadata": {
        "id": "6B51zQXvuHr7"
      },
      "source": [
        "fast_matmul[blockspergrid, threadsperblock](A, B, C_fast)"
      ],
      "execution_count": 30,
      "outputs": []
    },
    {
      "cell_type": "code",
      "metadata": {
        "colab": {
          "base_uri": "https://localhost:8080/"
        },
        "id": "EAdX-2htuvvN",
        "outputId": "74f7e008-0e08-4c7e-f042-2d64750d1914"
      },
      "source": [
        "cp.allclose(C_slow, C_fast)"
      ],
      "execution_count": 31,
      "outputs": [
        {
          "output_type": "execute_result",
          "data": {
            "text/plain": [
              "array(True)"
            ]
          },
          "metadata": {},
          "execution_count": 31
        }
      ]
    },
    {
      "cell_type": "code",
      "metadata": {
        "colab": {
          "base_uri": "https://localhost:8080/"
        },
        "id": "jHEO7EYcUqVE",
        "outputId": "3a479ded-293b-48fc-8908-23b523a07231"
      },
      "source": [
        "%%time\n",
        "\n",
        "for i in range(10):\n",
        "  matmul[blockspergrid, threadsperblock](A, B, C_slow)"
      ],
      "execution_count": 32,
      "outputs": [
        {
          "output_type": "stream",
          "name": "stdout",
          "text": [
            "CPU times: user 1.65 s, sys: 6.07 ms, total: 1.66 s\n",
            "Wall time: 1.65 s\n"
          ]
        }
      ]
    },
    {
      "cell_type": "code",
      "metadata": {
        "colab": {
          "base_uri": "https://localhost:8080/"
        },
        "id": "aurP1QLoG-MH",
        "outputId": "943c4bd4-f2af-4ad7-b4d3-870a68bdb891"
      },
      "source": [
        "%%time\n",
        "\n",
        "for i in range(10):\n",
        "  fast_matmul[blockspergrid, threadsperblock](A, B, C_fast)"
      ],
      "execution_count": 33,
      "outputs": [
        {
          "output_type": "stream",
          "name": "stdout",
          "text": [
            "CPU times: user 1.53 s, sys: 0 ns, total: 1.53 s\n",
            "Wall time: 1.52 s\n"
          ]
        }
      ]
    },
    {
      "cell_type": "code",
      "metadata": {
        "id": "4IvNo1MovZTx"
      },
      "source": [
        "C_c = cp.dot(A, B)"
      ],
      "execution_count": 34,
      "outputs": []
    },
    {
      "cell_type": "code",
      "metadata": {
        "colab": {
          "base_uri": "https://localhost:8080/"
        },
        "id": "lJ2eQi8fJjPJ",
        "outputId": "2cb4e9d9-a16b-4229-9e3b-648b59969670"
      },
      "source": [
        "np.allclose(C_c, C_fast)"
      ],
      "execution_count": 35,
      "outputs": [
        {
          "output_type": "execute_result",
          "data": {
            "text/plain": [
              "array(True)"
            ]
          },
          "metadata": {},
          "execution_count": 35
        }
      ]
    },
    {
      "cell_type": "code",
      "metadata": {
        "colab": {
          "base_uri": "https://localhost:8080/"
        },
        "id": "ip0P_7VJJpTx",
        "outputId": "4739dc40-7d1e-492b-885c-d994f6bbf6c1"
      },
      "source": [
        "%time\n",
        "\n",
        "for i in range(10):\n",
        "  cp.dot(A, B)"
      ],
      "execution_count": 36,
      "outputs": [
        {
          "output_type": "stream",
          "name": "stdout",
          "text": [
            "CPU times: user 2 µs, sys: 0 ns, total: 2 µs\n",
            "Wall time: 4.53 µs\n"
          ]
        }
      ]
    },
    {
      "cell_type": "code",
      "metadata": {
        "id": "-FkTb3g2J3Sf"
      },
      "source": [],
      "execution_count": 36,
      "outputs": []
    },
    {
      "cell_type": "code",
      "source": [],
      "metadata": {
        "id": "8zUxj05bwWiB"
      },
      "execution_count": 36,
      "outputs": []
    }
  ]
}